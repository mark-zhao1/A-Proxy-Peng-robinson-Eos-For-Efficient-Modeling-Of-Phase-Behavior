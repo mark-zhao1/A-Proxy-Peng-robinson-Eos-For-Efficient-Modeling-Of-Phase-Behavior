{
 "cells": [
  {
   "cell_type": "code",
   "execution_count": 1,
   "metadata": {},
   "outputs": [],
   "source": [
    "class testclass:\n",
    "    def method(self,x):\n",
    "        return x+1\n"
   ]
  },
  {
   "cell_type": "code",
   "execution_count": 2,
   "metadata": {},
   "outputs": [],
   "source": [
    "inst = testclass()"
   ]
  },
  {
   "cell_type": "code",
   "execution_count": 3,
   "metadata": {},
   "outputs": [
    {
     "data": {
      "text/plain": [
       "3"
      ]
     },
     "execution_count": 3,
     "metadata": {},
     "output_type": "execute_result"
    }
   ],
   "source": [
    "inst.method(2)"
   ]
  },
  {
   "cell_type": "code",
   "execution_count": 5,
   "metadata": {},
   "outputs": [],
   "source": [
    "del inst"
   ]
  },
  {
   "cell_type": "code",
   "execution_count": 6,
   "metadata": {},
   "outputs": [
    {
     "ename": "NameError",
     "evalue": "name 'inst' is not defined",
     "output_type": "error",
     "traceback": [
      "\u001b[1;31m---------------------------------------------------------------------------\u001b[0m",
      "\u001b[1;31mNameError\u001b[0m                                 Traceback (most recent call last)",
      "\u001b[1;32m<ipython-input-6-9f1902b6cf64>\u001b[0m in \u001b[0;36m<module>\u001b[1;34m\u001b[0m\n\u001b[1;32m----> 1\u001b[1;33m \u001b[0minst\u001b[0m\u001b[1;33m.\u001b[0m\u001b[0mmethod\u001b[0m\u001b[1;33m(\u001b[0m\u001b[1;36m2\u001b[0m\u001b[1;33m)\u001b[0m\u001b[1;33m\u001b[0m\u001b[1;33m\u001b[0m\u001b[0m\n\u001b[0m",
      "\u001b[1;31mNameError\u001b[0m: name 'inst' is not defined"
     ]
    }
   ],
   "source": [
    "inst.method(2)"
   ]
  },
  {
   "cell_type": "code",
   "execution_count": 1,
   "metadata": {},
   "outputs": [],
   "source": [
    "import numpy as np"
   ]
  },
  {
   "cell_type": "code",
   "execution_count": 4,
   "metadata": {},
   "outputs": [
    {
     "data": {
      "text/plain": [
       "array([1000.        , 1010.1010101 , 1020.2020202 , 1030.3030303 ,\n",
       "       1040.4040404 , 1050.50505051, 1060.60606061, 1070.70707071,\n",
       "       1080.80808081, 1090.90909091, 1101.01010101, 1111.11111111,\n",
       "       1121.21212121, 1131.31313131, 1141.41414141, 1151.51515152,\n",
       "       1161.61616162, 1171.71717172, 1181.81818182, 1191.91919192,\n",
       "       1202.02020202, 1212.12121212, 1222.22222222, 1232.32323232,\n",
       "       1242.42424242, 1252.52525253, 1262.62626263, 1272.72727273,\n",
       "       1282.82828283, 1292.92929293, 1303.03030303, 1313.13131313,\n",
       "       1323.23232323, 1333.33333333, 1343.43434343, 1353.53535354,\n",
       "       1363.63636364, 1373.73737374, 1383.83838384, 1393.93939394,\n",
       "       1404.04040404, 1414.14141414, 1424.24242424, 1434.34343434,\n",
       "       1444.44444444, 1454.54545455, 1464.64646465, 1474.74747475,\n",
       "       1484.84848485, 1494.94949495, 1505.05050505, 1515.15151515,\n",
       "       1525.25252525, 1535.35353535, 1545.45454545, 1555.55555556,\n",
       "       1565.65656566, 1575.75757576, 1585.85858586, 1595.95959596,\n",
       "       1606.06060606, 1616.16161616, 1626.26262626, 1636.36363636,\n",
       "       1646.46464646, 1656.56565657, 1666.66666667, 1676.76767677,\n",
       "       1686.86868687, 1696.96969697, 1707.07070707, 1717.17171717,\n",
       "       1727.27272727, 1737.37373737, 1747.47474747, 1757.57575758,\n",
       "       1767.67676768, 1777.77777778, 1787.87878788, 1797.97979798,\n",
       "       1808.08080808, 1818.18181818, 1828.28282828, 1838.38383838,\n",
       "       1848.48484848, 1858.58585859, 1868.68686869, 1878.78787879,\n",
       "       1888.88888889, 1898.98989899, 1909.09090909, 1919.19191919,\n",
       "       1929.29292929, 1939.39393939, 1949.49494949, 1959.5959596 ,\n",
       "       1969.6969697 , 1979.7979798 , 1989.8989899 , 2000.        ])"
      ]
     },
     "execution_count": 4,
     "metadata": {},
     "output_type": "execute_result"
    }
   ],
   "source": [
    "np.linspace(1000,2000,100)"
   ]
  },
  {
   "cell_type": "code",
   "execution_count": null,
   "metadata": {},
   "outputs": [],
   "source": []
  }
 ],
 "metadata": {
  "kernelspec": {
   "display_name": "gputest",
   "language": "python",
   "name": "gputest"
  },
  "language_info": {
   "codemirror_mode": {
    "name": "ipython",
    "version": 3
   },
   "file_extension": ".py",
   "mimetype": "text/x-python",
   "name": "python",
   "nbconvert_exporter": "python",
   "pygments_lexer": "ipython3",
   "version": "3.7.7"
  }
 },
 "nbformat": 4,
 "nbformat_minor": 4
}
